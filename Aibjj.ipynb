{
  "nbformat": 4,
  "nbformat_minor": 0,
  "metadata": {
    "colab": {
      "provenance": [],
      "gpuType": "T4",
      "authorship_tag": "ABX9TyP5nXX6iy1t5nI6UVQJQjdR",
      "include_colab_link": true
    },
    "kernelspec": {
      "name": "python3",
      "display_name": "Python 3"
    },
    "language_info": {
      "name": "python"
    },
    "accelerator": "GPU"
  },
  "cells": [
    {
      "cell_type": "markdown",
      "metadata": {
        "id": "view-in-github",
        "colab_type": "text"
      },
      "source": [
        "<a href=\"https://colab.research.google.com/github/ellipticalcurves/aibjj/blob/main/Aibjj.ipynb\" target=\"_parent\"><img src=\"https://colab.research.google.com/assets/colab-badge.svg\" alt=\"Open In Colab\"/></a>"
      ]
    },
    {
      "cell_type": "code",
      "execution_count": 1,
      "metadata": {
        "colab": {
          "base_uri": "https://localhost:8080/"
        },
        "collapsed": true,
        "id": "sxlVkW4D32YN",
        "outputId": "b701c737-84ce-4cf2-b62b-6b128557e695"
      },
      "outputs": [
        {
          "output_type": "stream",
          "name": "stdout",
          "text": [
            "Collecting mujoco\n",
            "  Downloading mujoco-3.2.0-cp310-cp310-manylinux_2_17_x86_64.manylinux2014_x86_64.whl.metadata (44 kB)\n",
            "\u001b[?25l     \u001b[90m━━━━━━━━━━━━━━━━━━━━━━━━━━━━━━━━━━━━━━━━\u001b[0m \u001b[32m0.0/44.3 kB\u001b[0m \u001b[31m?\u001b[0m eta \u001b[36m-:--:--\u001b[0m\r\u001b[2K     \u001b[90m━━━━━━━━━━━━━━━━━━━━━━━━━━━━━━━━━━━━━━━━\u001b[0m \u001b[32m44.3/44.3 kB\u001b[0m \u001b[31m1.7 MB/s\u001b[0m eta \u001b[36m0:00:00\u001b[0m\n",
            "\u001b[?25hRequirement already satisfied: absl-py in /usr/local/lib/python3.10/dist-packages (from mujoco) (1.4.0)\n",
            "Requirement already satisfied: etils[epath] in /usr/local/lib/python3.10/dist-packages (from mujoco) (1.7.0)\n",
            "Collecting glfw (from mujoco)\n",
            "  Downloading glfw-2.7.0-py2.py27.py3.py30.py31.py32.py33.py34.py35.py36.py37.py38-none-manylinux2014_x86_64.whl.metadata (5.4 kB)\n",
            "Requirement already satisfied: numpy in /usr/local/lib/python3.10/dist-packages (from mujoco) (1.26.4)\n",
            "Requirement already satisfied: pyopengl in /usr/local/lib/python3.10/dist-packages (from mujoco) (3.1.7)\n",
            "Requirement already satisfied: fsspec in /usr/local/lib/python3.10/dist-packages (from etils[epath]->mujoco) (2024.6.1)\n",
            "Requirement already satisfied: importlib_resources in /usr/local/lib/python3.10/dist-packages (from etils[epath]->mujoco) (6.4.0)\n",
            "Requirement already satisfied: typing_extensions in /usr/local/lib/python3.10/dist-packages (from etils[epath]->mujoco) (4.12.2)\n",
            "Requirement already satisfied: zipp in /usr/local/lib/python3.10/dist-packages (from etils[epath]->mujoco) (3.19.2)\n",
            "Downloading mujoco-3.2.0-cp310-cp310-manylinux_2_17_x86_64.manylinux2014_x86_64.whl (6.0 MB)\n",
            "\u001b[2K   \u001b[90m━━━━━━━━━━━━━━━━━━━━━━━━━━━━━━━━━━━━━━━━\u001b[0m \u001b[32m6.0/6.0 MB\u001b[0m \u001b[31m22.6 MB/s\u001b[0m eta \u001b[36m0:00:00\u001b[0m\n",
            "\u001b[?25hDownloading glfw-2.7.0-py2.py27.py3.py30.py31.py32.py33.py34.py35.py36.py37.py38-none-manylinux2014_x86_64.whl (211 kB)\n",
            "\u001b[2K   \u001b[90m━━━━━━━━━━━━━━━━━━━━━━━━━━━━━━━━━━━━━━━━\u001b[0m \u001b[32m211.8/211.8 kB\u001b[0m \u001b[31m8.0 MB/s\u001b[0m eta \u001b[36m0:00:00\u001b[0m\n",
            "\u001b[?25hInstalling collected packages: glfw, mujoco\n",
            "Successfully installed glfw-2.7.0 mujoco-3.2.0\n",
            "Collecting mujoco_mjx\n",
            "  Downloading mujoco_mjx-3.2.0-py3-none-any.whl.metadata (3.4 kB)\n",
            "Requirement already satisfied: absl-py in /usr/local/lib/python3.10/dist-packages (from mujoco_mjx) (1.4.0)\n",
            "Requirement already satisfied: etils[epath] in /usr/local/lib/python3.10/dist-packages (from mujoco_mjx) (1.7.0)\n",
            "Requirement already satisfied: jax in /usr/local/lib/python3.10/dist-packages (from mujoco_mjx) (0.4.26)\n",
            "Requirement already satisfied: jaxlib in /usr/local/lib/python3.10/dist-packages (from mujoco_mjx) (0.4.26+cuda12.cudnn89)\n",
            "Requirement already satisfied: mujoco>=3.2.0.dev0 in /usr/local/lib/python3.10/dist-packages (from mujoco_mjx) (3.2.0)\n",
            "Requirement already satisfied: scipy in /usr/local/lib/python3.10/dist-packages (from mujoco_mjx) (1.13.1)\n",
            "Collecting trimesh (from mujoco_mjx)\n",
            "  Downloading trimesh-4.4.3-py3-none-any.whl.metadata (18 kB)\n",
            "Requirement already satisfied: glfw in /usr/local/lib/python3.10/dist-packages (from mujoco>=3.2.0.dev0->mujoco_mjx) (2.7.0)\n",
            "Requirement already satisfied: numpy in /usr/local/lib/python3.10/dist-packages (from mujoco>=3.2.0.dev0->mujoco_mjx) (1.26.4)\n",
            "Requirement already satisfied: pyopengl in /usr/local/lib/python3.10/dist-packages (from mujoco>=3.2.0.dev0->mujoco_mjx) (3.1.7)\n",
            "Requirement already satisfied: fsspec in /usr/local/lib/python3.10/dist-packages (from etils[epath]->mujoco_mjx) (2024.6.1)\n",
            "Requirement already satisfied: importlib_resources in /usr/local/lib/python3.10/dist-packages (from etils[epath]->mujoco_mjx) (6.4.0)\n",
            "Requirement already satisfied: typing_extensions in /usr/local/lib/python3.10/dist-packages (from etils[epath]->mujoco_mjx) (4.12.2)\n",
            "Requirement already satisfied: zipp in /usr/local/lib/python3.10/dist-packages (from etils[epath]->mujoco_mjx) (3.19.2)\n",
            "Requirement already satisfied: ml-dtypes>=0.2.0 in /usr/local/lib/python3.10/dist-packages (from jax->mujoco_mjx) (0.2.0)\n",
            "Requirement already satisfied: opt-einsum in /usr/local/lib/python3.10/dist-packages (from jax->mujoco_mjx) (3.3.0)\n",
            "Downloading mujoco_mjx-3.2.0-py3-none-any.whl (6.6 MB)\n",
            "\u001b[2K   \u001b[90m━━━━━━━━━━━━━━━━━━━━━━━━━━━━━━━━━━━━━━━━\u001b[0m \u001b[32m6.6/6.6 MB\u001b[0m \u001b[31m32.8 MB/s\u001b[0m eta \u001b[36m0:00:00\u001b[0m\n",
            "\u001b[?25hDownloading trimesh-4.4.3-py3-none-any.whl (695 kB)\n",
            "\u001b[2K   \u001b[90m━━━━━━━━━━━━━━━━━━━━━━━━━━━━━━━━━━━━━━━━\u001b[0m \u001b[32m695.9/695.9 kB\u001b[0m \u001b[31m34.1 MB/s\u001b[0m eta \u001b[36m0:00:00\u001b[0m\n",
            "\u001b[?25hInstalling collected packages: trimesh, mujoco_mjx\n",
            "Successfully installed mujoco_mjx-3.2.0 trimesh-4.4.3\n",
            "Collecting brax\n",
            "  Downloading brax-0.10.5-py3-none-any.whl.metadata (7.7 kB)\n",
            "Requirement already satisfied: absl-py in /usr/local/lib/python3.10/dist-packages (from brax) (1.4.0)\n",
            "Collecting dm-env (from brax)\n",
            "  Downloading dm_env-1.6-py3-none-any.whl.metadata (966 bytes)\n",
            "Requirement already satisfied: etils in /usr/local/lib/python3.10/dist-packages (from brax) (1.7.0)\n",
            "Requirement already satisfied: flask in /usr/local/lib/python3.10/dist-packages (from brax) (2.2.5)\n",
            "Collecting flask-cors (from brax)\n",
            "  Downloading Flask_Cors-4.0.1-py2.py3-none-any.whl.metadata (5.5 kB)\n",
            "Requirement already satisfied: flax in /usr/local/lib/python3.10/dist-packages (from brax) (0.8.4)\n",
            "Requirement already satisfied: grpcio in /usr/local/lib/python3.10/dist-packages (from brax) (1.64.1)\n",
            "Requirement already satisfied: gym in /usr/local/lib/python3.10/dist-packages (from brax) (0.25.2)\n",
            "Requirement already satisfied: jax>=0.4.6 in /usr/local/lib/python3.10/dist-packages (from brax) (0.4.26)\n",
            "Requirement already satisfied: jaxlib>=0.4.6 in /usr/local/lib/python3.10/dist-packages (from brax) (0.4.26+cuda12.cudnn89)\n",
            "Collecting jaxopt (from brax)\n",
            "  Downloading jaxopt-0.8.3-py3-none-any.whl.metadata (2.6 kB)\n",
            "Requirement already satisfied: jinja2 in /usr/local/lib/python3.10/dist-packages (from brax) (3.1.4)\n",
            "Collecting ml-collections (from brax)\n",
            "  Downloading ml_collections-0.1.1.tar.gz (77 kB)\n",
            "\u001b[2K     \u001b[90m━━━━━━━━━━━━━━━━━━━━━━━━━━━━━━━━━━━━━━━━\u001b[0m \u001b[32m77.9/77.9 kB\u001b[0m \u001b[31m3.4 MB/s\u001b[0m eta \u001b[36m0:00:00\u001b[0m\n",
            "\u001b[?25h  Preparing metadata (setup.py) ... \u001b[?25l\u001b[?25hdone\n",
            "Requirement already satisfied: mujoco in /usr/local/lib/python3.10/dist-packages (from brax) (3.2.0)\n",
            "Requirement already satisfied: mujoco-mjx in /usr/local/lib/python3.10/dist-packages (from brax) (3.2.0)\n",
            "Requirement already satisfied: numpy in /usr/local/lib/python3.10/dist-packages (from brax) (1.26.4)\n",
            "Requirement already satisfied: optax in /usr/local/lib/python3.10/dist-packages (from brax) (0.2.2)\n",
            "Requirement already satisfied: orbax-checkpoint in /usr/local/lib/python3.10/dist-packages (from brax) (0.4.4)\n",
            "Requirement already satisfied: Pillow in /usr/local/lib/python3.10/dist-packages (from brax) (9.4.0)\n",
            "Collecting pytinyrenderer (from brax)\n",
            "  Downloading pytinyrenderer-0.0.14-cp310-cp310-manylinux_2_17_x86_64.manylinux2014_x86_64.whl.metadata (1.2 kB)\n",
            "Requirement already satisfied: scipy in /usr/local/lib/python3.10/dist-packages (from brax) (1.13.1)\n",
            "Collecting tensorboardX (from brax)\n",
            "  Downloading tensorboardX-2.6.2.2-py2.py3-none-any.whl.metadata (5.8 kB)\n",
            "Requirement already satisfied: trimesh in /usr/local/lib/python3.10/dist-packages (from brax) (4.4.3)\n",
            "Requirement already satisfied: typing-extensions in /usr/local/lib/python3.10/dist-packages (from brax) (4.12.2)\n",
            "Requirement already satisfied: ml-dtypes>=0.2.0 in /usr/local/lib/python3.10/dist-packages (from jax>=0.4.6->brax) (0.2.0)\n",
            "Requirement already satisfied: opt-einsum in /usr/local/lib/python3.10/dist-packages (from jax>=0.4.6->brax) (3.3.0)\n",
            "Requirement already satisfied: dm-tree in /usr/local/lib/python3.10/dist-packages (from dm-env->brax) (0.1.8)\n",
            "Requirement already satisfied: Werkzeug>=2.2.2 in /usr/local/lib/python3.10/dist-packages (from flask->brax) (3.0.3)\n",
            "Requirement already satisfied: itsdangerous>=2.0 in /usr/local/lib/python3.10/dist-packages (from flask->brax) (2.2.0)\n",
            "Requirement already satisfied: click>=8.0 in /usr/local/lib/python3.10/dist-packages (from flask->brax) (8.1.7)\n",
            "Requirement already satisfied: MarkupSafe>=2.0 in /usr/local/lib/python3.10/dist-packages (from jinja2->brax) (2.1.5)\n",
            "Requirement already satisfied: msgpack in /usr/local/lib/python3.10/dist-packages (from flax->brax) (1.0.8)\n",
            "Requirement already satisfied: tensorstore in /usr/local/lib/python3.10/dist-packages (from flax->brax) (0.1.45)\n",
            "Requirement already satisfied: rich>=11.1 in /usr/local/lib/python3.10/dist-packages (from flax->brax) (13.7.1)\n",
            "Requirement already satisfied: PyYAML>=5.4.1 in /usr/local/lib/python3.10/dist-packages (from flax->brax) (6.0.1)\n",
            "Requirement already satisfied: cloudpickle>=1.2.0 in /usr/local/lib/python3.10/dist-packages (from gym->brax) (2.2.1)\n",
            "Requirement already satisfied: gym-notices>=0.0.4 in /usr/local/lib/python3.10/dist-packages (from gym->brax) (0.0.8)\n",
            "Requirement already satisfied: six in /usr/local/lib/python3.10/dist-packages (from ml-collections->brax) (1.16.0)\n",
            "Requirement already satisfied: contextlib2 in /usr/local/lib/python3.10/dist-packages (from ml-collections->brax) (21.6.0)\n",
            "Requirement already satisfied: glfw in /usr/local/lib/python3.10/dist-packages (from mujoco->brax) (2.7.0)\n",
            "Requirement already satisfied: pyopengl in /usr/local/lib/python3.10/dist-packages (from mujoco->brax) (3.1.7)\n",
            "Requirement already satisfied: chex>=0.1.86 in /usr/local/lib/python3.10/dist-packages (from optax->brax) (0.1.86)\n",
            "Requirement already satisfied: nest_asyncio in /usr/local/lib/python3.10/dist-packages (from orbax-checkpoint->brax) (1.6.0)\n",
            "Requirement already satisfied: protobuf in /usr/local/lib/python3.10/dist-packages (from orbax-checkpoint->brax) (3.20.3)\n",
            "Requirement already satisfied: packaging in /usr/local/lib/python3.10/dist-packages (from tensorboardX->brax) (24.1)\n",
            "Requirement already satisfied: toolz>=0.9.0 in /usr/local/lib/python3.10/dist-packages (from chex>=0.1.86->optax->brax) (0.12.1)\n",
            "Requirement already satisfied: markdown-it-py>=2.2.0 in /usr/local/lib/python3.10/dist-packages (from rich>=11.1->flax->brax) (3.0.0)\n",
            "Requirement already satisfied: pygments<3.0.0,>=2.13.0 in /usr/local/lib/python3.10/dist-packages (from rich>=11.1->flax->brax) (2.16.1)\n",
            "Requirement already satisfied: fsspec in /usr/local/lib/python3.10/dist-packages (from etils[epath,epy]->orbax-checkpoint->brax) (2024.6.1)\n",
            "Requirement already satisfied: importlib_resources in /usr/local/lib/python3.10/dist-packages (from etils[epath,epy]->orbax-checkpoint->brax) (6.4.0)\n",
            "Requirement already satisfied: zipp in /usr/local/lib/python3.10/dist-packages (from etils[epath,epy]->orbax-checkpoint->brax) (3.19.2)\n",
            "Requirement already satisfied: mdurl~=0.1 in /usr/local/lib/python3.10/dist-packages (from markdown-it-py>=2.2.0->rich>=11.1->flax->brax) (0.1.2)\n",
            "Downloading brax-0.10.5-py3-none-any.whl (998 kB)\n",
            "\u001b[2K   \u001b[90m━━━━━━━━━━━━━━━━━━━━━━━━━━━━━━━━━━━━━━━━\u001b[0m \u001b[32m998.9/998.9 kB\u001b[0m \u001b[31m21.5 MB/s\u001b[0m eta \u001b[36m0:00:00\u001b[0m\n",
            "\u001b[?25hDownloading dm_env-1.6-py3-none-any.whl (26 kB)\n",
            "Downloading Flask_Cors-4.0.1-py2.py3-none-any.whl (14 kB)\n",
            "Downloading jaxopt-0.8.3-py3-none-any.whl (172 kB)\n",
            "\u001b[2K   \u001b[90m━━━━━━━━━━━━━━━━━━━━━━━━━━━━━━━━━━━━━━━━\u001b[0m \u001b[32m172.3/172.3 kB\u001b[0m \u001b[31m12.2 MB/s\u001b[0m eta \u001b[36m0:00:00\u001b[0m\n",
            "\u001b[?25hDownloading pytinyrenderer-0.0.14-cp310-cp310-manylinux_2_17_x86_64.manylinux2014_x86_64.whl (1.9 MB)\n",
            "\u001b[2K   \u001b[90m━━━━━━━━━━━━━━━━━━━━━━━━━━━━━━━━━━━━━━━━\u001b[0m \u001b[32m1.9/1.9 MB\u001b[0m \u001b[31m43.8 MB/s\u001b[0m eta \u001b[36m0:00:00\u001b[0m\n",
            "\u001b[?25hDownloading tensorboardX-2.6.2.2-py2.py3-none-any.whl (101 kB)\n",
            "\u001b[2K   \u001b[90m━━━━━━━━━━━━━━━━━━━━━━━━━━━━━━━━━━━━━━━━\u001b[0m \u001b[32m101.7/101.7 kB\u001b[0m \u001b[31m6.2 MB/s\u001b[0m eta \u001b[36m0:00:00\u001b[0m\n",
            "\u001b[?25hBuilding wheels for collected packages: ml-collections\n",
            "  Building wheel for ml-collections (setup.py) ... \u001b[?25l\u001b[?25hdone\n",
            "  Created wheel for ml-collections: filename=ml_collections-0.1.1-py3-none-any.whl size=94506 sha256=ea1b5b4849ae76b67e91d9c90bc31aa7120ba38e242edb40398ea237394ef633\n",
            "  Stored in directory: /root/.cache/pip/wheels/7b/89/c9/a9b87790789e94aadcfc393c283e3ecd5ab916aed0a31be8fe\n",
            "Successfully built ml-collections\n",
            "Installing collected packages: pytinyrenderer, tensorboardX, ml-collections, dm-env, jaxopt, flask-cors, brax\n",
            "Successfully installed brax-0.10.5 dm-env-1.6 flask-cors-4.0.1 jaxopt-0.8.3 ml-collections-0.1.1 pytinyrenderer-0.0.14 tensorboardX-2.6.2.2\n"
          ]
        }
      ],
      "source": [
        "!pip install mujoco\n",
        "!pip install mujoco_mjx\n",
        "!pip install brax"
      ]
    },
    {
      "cell_type": "code",
      "source": [
        "#@title Check if MuJoCo installation was successful\n",
        "\n",
        "from google.colab import files\n",
        "\n",
        "import distutils.util\n",
        "import os\n",
        "import subprocess\n",
        "if subprocess.run('nvidia-smi').returncode:\n",
        "  raise RuntimeError(\n",
        "      'Cannot communicate with GPU. '\n",
        "      'Make sure you are using a GPU Colab runtime. '\n",
        "      'Go to the Runtime menu and select Choose runtime type.')\n",
        "\n",
        "# Add an ICD config so that glvnd can pick up the Nvidia EGL driver.\n",
        "# This is usually installed as part of an Nvidia driver package, but the Colab\n",
        "# kernel doesn't install its driver via APT, and as a result the ICD is missing.\n",
        "# (https://github.com/NVIDIA/libglvnd/blob/master/src/EGL/icd_enumeration.md)\n",
        "NVIDIA_ICD_CONFIG_PATH = '/usr/share/glvnd/egl_vendor.d/10_nvidia.json'\n",
        "if not os.path.exists(NVIDIA_ICD_CONFIG_PATH):\n",
        "  with open(NVIDIA_ICD_CONFIG_PATH, 'w') as f:\n",
        "    f.write(\"\"\"{\n",
        "    \"file_format_version\" : \"1.0.0\",\n",
        "    \"ICD\" : {\n",
        "        \"library_path\" : \"libEGL_nvidia.so.0\"\n",
        "    }\n",
        "}\n",
        "\"\"\")\n",
        "\n",
        "# Configure MuJoCo to use the EGL rendering backend (requires GPU)\n",
        "print('Setting environment variable to use GPU rendering:')\n",
        "%env MUJOCO_GL=egl\n",
        "\n",
        "try:\n",
        "  print('Checking that the installation succeeded:')\n",
        "  import mujoco\n",
        "  mujoco.MjModel.from_xml_string('<mujoco/>')\n",
        "except Exception as e:\n",
        "  raise e from RuntimeError(\n",
        "      'Something went wrong during installation. Check the shell output above '\n",
        "      'for more information.\\n'\n",
        "      'If using a hosted Colab runtime, make sure you enable GPU acceleration '\n",
        "      'by going to the Runtime menu and selecting \"Choose runtime type\".')\n",
        "\n",
        "print('Installation successful.')\n",
        "\n",
        "# Tell XLA to use Triton GEMM, this improves steps/sec by ~30% on some GPUs\n",
        "xla_flags = os.environ.get('XLA_FLAGS', '')\n",
        "xla_flags += ' --xla_gpu_triton_gemm_any=True'\n",
        "os.environ['XLA_FLAGS'] = xla_flags\n"
      ],
      "metadata": {
        "colab": {
          "base_uri": "https://localhost:8080/"
        },
        "cellView": "form",
        "id": "-yoXHmxD4Jv9",
        "outputId": "1c098181-a705-457d-f44d-4764cbca9e62"
      },
      "execution_count": 2,
      "outputs": [
        {
          "output_type": "stream",
          "name": "stdout",
          "text": [
            "Setting environment variable to use GPU rendering:\n",
            "env: MUJOCO_GL=egl\n",
            "Checking that the installation succeeded:\n",
            "Installation successful.\n"
          ]
        }
      ]
    },
    {
      "cell_type": "markdown",
      "source": [
        "NOTE: you may have to connect to a GPU instance of collab by changing run time type and selecting T4 GPU\n"
      ],
      "metadata": {
        "id": "wZlsej7p6Unv"
      }
    },
    {
      "cell_type": "code",
      "source": [
        "#@title Import packages for plotting and creating graphics\n",
        "import time\n",
        "import itertools\n",
        "import numpy as np\n",
        "from typing import Callable, NamedTuple, Optional, Union, List\n",
        "\n",
        "# Graphics and plotting.\n",
        "print('Installing mediapy:')\n",
        "!command -v ffmpeg >/dev/null || (apt update && apt install -y ffmpeg)\n",
        "!pip install -q mediapy\n",
        "import mediapy as media\n",
        "import matplotlib.pyplot as plt\n",
        "\n",
        "# More legible printing from numpy.\n",
        "np.set_printoptions(precision=3, suppress=True, linewidth=100)"
      ],
      "metadata": {
        "colab": {
          "base_uri": "https://localhost:8080/"
        },
        "cellView": "form",
        "id": "PW1I3LkB4OrX",
        "outputId": "7a41efe5-351a-4e02-b13b-9e3bca3d6736"
      },
      "execution_count": 3,
      "outputs": [
        {
          "output_type": "stream",
          "name": "stdout",
          "text": [
            "Installing mediapy:\n",
            "\u001b[2K   \u001b[90m━━━━━━━━━━━━━━━━━━━━━━━━━━━━━━━━━━━━━━━━\u001b[0m \u001b[32m1.6/1.6 MB\u001b[0m \u001b[31m29.6 MB/s\u001b[0m eta \u001b[36m0:00:00\u001b[0m\n",
            "\u001b[?25h"
          ]
        }
      ]
    },
    {
      "cell_type": "code",
      "source": [
        "#@title Import MuJoCo, MJX, and Brax\n",
        "from datetime import datetime\n",
        "from etils import epath\n",
        "import functools\n",
        "from IPython.display import HTML\n",
        "from typing import Any, Dict, Sequence, Tuple, Union\n",
        "import os\n",
        "from ml_collections import config_dict\n",
        "\n",
        "\n",
        "import jax\n",
        "from jax import numpy as jp\n",
        "import numpy as np\n",
        "from flax.training import orbax_utils\n",
        "from flax import struct\n",
        "from matplotlib import pyplot as plt\n",
        "import mediapy as media\n",
        "from orbax import checkpoint as ocp\n",
        "\n",
        "import mujoco\n",
        "from mujoco import mjx\n",
        "\n",
        "from brax import base\n",
        "from brax import envs\n",
        "from brax import math\n",
        "from brax.base import Base, Motion, Transform\n",
        "from brax.envs.base import Env, PipelineEnv, State\n",
        "from brax.mjx.base import State as MjxState\n",
        "from brax.training.agents.ppo import train as ppo\n",
        "from brax.training.agents.ppo import networks as ppo_networks\n",
        "from brax.io import html, mjcf, model\n"
      ],
      "metadata": {
        "cellView": "form",
        "id": "z9vnrm4b4R_i"
      },
      "execution_count": 4,
      "outputs": []
    },
    {
      "cell_type": "code",
      "source": [
        "#@title 2_humanoids xml string\n",
        "\n",
        "xml =\"\"\"<mujoco model=\"22 Humanoids\">\n",
        "  <option timestep=\"0.005\"/>\n",
        "\n",
        "  <size memory=\"100M\"/>\n",
        "\n",
        "  <asset>\n",
        "    <texture type=\"skybox\" builtin=\"gradient\" rgb1=\".3 .5 .7\" rgb2=\"0 0 0\" width=\"512\" height=\"512\"/>\n",
        "    <texture name=\"body\" type=\"cube\" builtin=\"flat\" mark=\"cross\" width=\"128\" height=\"128\"\n",
        "             rgb1=\"0.8 0.6 0.4\" rgb2=\"0.8 0.6 0.4\" markrgb=\"1 1 1\" random=\"0.01\"/>\n",
        "    <material name=\"body\" texture=\"body\" texuniform=\"true\" rgba=\"0.8 0.6 .4 1\"/>\n",
        "    <texture name=\"grid\" type=\"2d\" builtin=\"checker\" width=\"512\" height=\"512\" rgb1=\".1 .2 .3\" rgb2=\".2 .3 .4\"/>\n",
        "    <material name=\"grid\" texture=\"grid\" texrepeat=\"1 1\" texuniform=\"true\" reflectance=\".2\"/>\n",
        "  </asset>\n",
        "\n",
        "  <default>\n",
        "    <motor ctrlrange=\"-1 1\" ctrllimited=\"true\"/>\n",
        "    <default class=\"body\">\n",
        "\n",
        "      <!-- geoms -->\n",
        "      <geom type=\"capsule\" condim=\"1\" friction=\".7\" solimp=\".9 .99 .003\" solref=\".015 1\" material=\"body\" group=\"1\"/>\n",
        "      <default class=\"thigh\">\n",
        "        <geom size=\".06\"/>\n",
        "      </default>\n",
        "      <default class=\"shin\">\n",
        "        <geom fromto=\"0 0 0 0 0 -.3\"  size=\".049\"/>\n",
        "      </default>\n",
        "      <default class=\"foot\">\n",
        "        <geom size=\".027\"/>\n",
        "        <default class=\"foot1\">\n",
        "          <geom fromto=\"-.07 -.01 0 .14 -.03 0\"/>\n",
        "        </default>\n",
        "        <default class=\"foot2\">\n",
        "          <geom fromto=\"-.07 .01 0 .14  .03 0\"/>\n",
        "        </default>\n",
        "      </default>\n",
        "      <default class=\"arm_upper\">\n",
        "        <geom size=\".04\"/>\n",
        "      </default>\n",
        "      <default class=\"arm_lower\">\n",
        "        <geom size=\".031\"/>\n",
        "      </default>\n",
        "      <default class=\"hand\">\n",
        "        <geom type=\"sphere\" size=\".04\"/>\n",
        "      </default>\n",
        "\n",
        "      <!-- joints -->\n",
        "      <joint type=\"hinge\" damping=\".2\" stiffness=\"1\" armature=\".01\" limited=\"true\" solimplimit=\"0 .99 .01\"/>\n",
        "      <default class=\"joint_big\">\n",
        "        <joint damping=\"5\" stiffness=\"10\"/>\n",
        "        <default class=\"hip_x\">\n",
        "          <joint range=\"-30 10\"/>\n",
        "        </default>\n",
        "        <default class=\"hip_z\">\n",
        "          <joint range=\"-60 35\"/>\n",
        "        </default>\n",
        "        <default class=\"hip_y\">\n",
        "          <joint axis=\"0 1 0\" range=\"-150 20\"/>\n",
        "        </default>\n",
        "        <default class=\"joint_big_stiff\">\n",
        "          <joint stiffness=\"20\"/>\n",
        "        </default>\n",
        "      </default>\n",
        "      <default class=\"knee\">\n",
        "        <joint pos=\"0 0 .02\" axis=\"0 -1 0\" range=\"-160 2\"/>\n",
        "      </default>\n",
        "      <default class=\"ankle\">\n",
        "        <joint range=\"-50 50\"/>\n",
        "        <default class=\"ankle_y\">\n",
        "          <joint pos=\"0 0 .08\" axis=\"0 1 0\" stiffness=\"6\"/>\n",
        "        </default>\n",
        "        <default class=\"ankle_x\">\n",
        "          <joint pos=\"0 0 .04\" stiffness=\"3\"/>\n",
        "        </default>\n",
        "      </default>\n",
        "      <default class=\"shoulder\">\n",
        "        <joint range=\"-85 60\"/>\n",
        "      </default>\n",
        "      <default class=\"elbow\">\n",
        "        <joint range=\"-100 50\" stiffness=\"0\"/>\n",
        "      </default>\n",
        "    </default>\n",
        "  </default>\n",
        "\n",
        "  <visual>\n",
        "    <map force=\"0.1\" zfar=\"30\"/>\n",
        "    <rgba haze=\"0.15 0.25 0.35 1\"/>\n",
        "    <quality shadowsize=\"4096\"/>\n",
        "    <global offwidth=\"800\" offheight=\"800\"/>\n",
        "  </visual>\n",
        "\n",
        "  <worldbody>\n",
        "    <geom name=\"floor\" size=\"10 10 .05\" type=\"plane\" material=\"grid\" condim=\"3\"/>\n",
        "    <light directional=\"true\" diffuse=\".4 .4 .4\" specular=\"0.1 0.1 0.1\" pos=\"0 0 5\" dir=\"0 0 -1\" castshadow=\"false\"/>\n",
        "    <light name=\"spotlight\" mode=\"targetbodycom\" target=\"world\" diffuse=\"1 1 1\" specular=\"0.3 0.3 0.3\" pos=\"-6 -6 4\" cutoff=\"60\"/>\n",
        "    <replicate count=\"2\" euler=\"0 0 16.36\" sep=\"-\">\n",
        "      <body name=\"torso\" pos=\"-5 0 1.282\" childclass=\"body\">\n",
        "        <camera name=\"back\" pos=\"-3 0 1\" xyaxes=\"0 -1 0 1 0 2\" mode=\"trackcom\"/>\n",
        "        <camera name=\"side\" pos=\"0 -3 1\" xyaxes=\"1 0 0 0 1 2\" mode=\"trackcom\"/>\n",
        "        <freejoint name=\"root\"/>\n",
        "        <geom name=\"torso\" fromto=\"0 -.07 0 0 .07 0\" size=\".07\"/>\n",
        "        <geom name=\"waist_upper\" fromto=\"-.01 -.06 -.12 -.01 .06 -.12\" size=\".06\"/>\n",
        "        <body name=\"head\" pos=\"0 0 .19\">\n",
        "          <geom name=\"head\" type=\"sphere\" size=\".09\"/>\n",
        "          <camera name=\"egocentric\" pos=\".09 0 0\" xyaxes=\"0 -1 0 .1 0 1\" fovy=\"80\"/>\n",
        "        </body>\n",
        "        <body name=\"waist_lower\" pos=\"-.01 0 -.26\">\n",
        "          <geom name=\"waist_lower\" fromto=\"0 -.06 0 0 .06 0\" size=\".06\"/>\n",
        "          <joint name=\"abdomen_z\" pos=\"0 0 .065\" axis=\"0 0 1\" range=\"-45 45\" class=\"joint_big_stiff\"/>\n",
        "          <joint name=\"abdomen_y\" pos=\"0 0 .065\" axis=\"0 1 0\" range=\"-75 30\" class=\"joint_big\"/>\n",
        "          <body name=\"pelvis\" pos=\"0 0 -.165\">\n",
        "            <joint name=\"abdomen_x\" pos=\"0 0 .1\" axis=\"1 0 0\" range=\"-35 35\" class=\"joint_big\"/>\n",
        "            <geom name=\"butt\" fromto=\"-.02 -.07 0 -.02 .07 0\" size=\".09\"/>\n",
        "            <body name=\"thigh_right\" pos=\"0 -.1 -.04\">\n",
        "              <joint name=\"hip_x_right\" axis=\"1 0 0\" class=\"hip_x\"/>\n",
        "              <joint name=\"hip_z_right\" axis=\"0 0 1\" class=\"hip_z\"/>\n",
        "              <joint name=\"hip_y_right\" class=\"hip_y\"/>\n",
        "              <geom name=\"thigh_right\" fromto=\"0 0 0 0 .01 -.34\" class=\"thigh\"/>\n",
        "              <body name=\"shin_right\" pos=\"0 .01 -.4\">\n",
        "                <joint name=\"knee_right\" class=\"knee\"/>\n",
        "                <geom name=\"shin_right\" class=\"shin\"/>\n",
        "                <body name=\"foot_right\" pos=\"0 0 -.39\">\n",
        "                  <joint name=\"ankle_y_right\" class=\"ankle_y\"/>\n",
        "                  <joint name=\"ankle_x_right\" class=\"ankle_x\" axis=\"1 0 .5\"/>\n",
        "                  <geom name=\"foot1_right\" class=\"foot1\"/>\n",
        "                  <geom name=\"foot2_right\" class=\"foot2\"/>\n",
        "                </body>\n",
        "              </body>\n",
        "            </body>\n",
        "            <body name=\"thigh_left\" pos=\"0 .1 -.04\">\n",
        "              <joint name=\"hip_x_left\" axis=\"-1 0 0\" class=\"hip_x\"/>\n",
        "              <joint name=\"hip_z_left\" axis=\"0 0 -1\" class=\"hip_z\"/>\n",
        "              <joint name=\"hip_y_left\" class=\"hip_y\"/>\n",
        "              <geom name=\"thigh_left\" fromto=\"0 0 0 0 -.01 -.34\" class=\"thigh\"/>\n",
        "              <body name=\"shin_left\" pos=\"0 -.01 -.4\">\n",
        "                <joint name=\"knee_left\" class=\"knee\"/>\n",
        "                <geom name=\"shin_left\" fromto=\"0 0 0 0 0 -.3\" class=\"shin\"/>\n",
        "                <body name=\"foot_left\" pos=\"0 0 -.39\">\n",
        "                  <joint name=\"ankle_y_left\" class=\"ankle_y\"/>\n",
        "                  <joint name=\"ankle_x_left\" class=\"ankle_x\" axis=\"-1 0 -.5\"/>\n",
        "                  <geom name=\"foot1_left\" class=\"foot1\"/>\n",
        "                  <geom name=\"foot2_left\" class=\"foot2\"/>\n",
        "                </body>\n",
        "              </body>\n",
        "            </body>\n",
        "          </body>\n",
        "        </body>\n",
        "        <body name=\"upper_arm_right\" pos=\"0 -.17 .06\">\n",
        "          <joint name=\"shoulder1_right\" axis=\"2 1 1\"  class=\"shoulder\"/>\n",
        "          <joint name=\"shoulder2_right\" axis=\"0 -1 1\" class=\"shoulder\"/>\n",
        "          <geom name=\"upper_arm_right\" fromto=\"0 0 0 .16 -.16 -.16\" class=\"arm_upper\"/>\n",
        "          <body name=\"lower_arm_right\" pos=\".18 -.18 -.18\">\n",
        "            <joint name=\"elbow_right\" axis=\"0 -1 1\" class=\"elbow\"/>\n",
        "            <geom name=\"lower_arm_right\" fromto=\".01 .01 .01 .17 .17 .17\" class=\"arm_lower\"/>\n",
        "            <body name=\"hand_right\" pos=\".18 .18 .18\">\n",
        "              <geom name=\"hand_right\" zaxis=\"1 1 1\" class=\"hand\"/>\n",
        "            </body>\n",
        "          </body>\n",
        "        </body>\n",
        "        <body name=\"upper_arm_left\" pos=\"0 .17 .06\">\n",
        "          <joint name=\"shoulder1_left\" axis=\"-2 1 -1\" class=\"shoulder\"/>\n",
        "          <joint name=\"shoulder2_left\" axis=\"0 -1 -1\"  class=\"shoulder\"/>\n",
        "          <geom name=\"upper_arm_left\" fromto=\"0 0 0 .16 .16 -.16\" class=\"arm_upper\"/>\n",
        "          <body name=\"lower_arm_left\" pos=\".18 .18 -.18\">\n",
        "            <joint name=\"elbow_left\" axis=\"0 -1 -1\" class=\"elbow\"/>\n",
        "            <geom name=\"lower_arm_left\" fromto=\".01 -.01 .01 .17 -.17 .17\" class=\"arm_lower\"/>\n",
        "            <body name=\"hand_left\" pos=\".18 -.18 .18\">\n",
        "              <geom name=\"hand_left\" zaxis=\"1 -1 1\" class=\"hand\"/>\n",
        "            </body>\n",
        "          </body>\n",
        "        </body>\n",
        "      </body>\n",
        "    </replicate>\n",
        "  </worldbody>\n",
        "\n",
        "  <contact>\n",
        "    <exclude body1=\"waist_lower\" body2=\"thigh_right\"/>\n",
        "    <exclude body1=\"waist_lower\" body2=\"thigh_left\"/>\n",
        "  </contact>\n",
        "\n",
        "  <!--<tendon>\n",
        "    <fixed name=\"hamstring_right\" limited=\"true\" range=\"-0.3 2\">\n",
        "      <joint joint=\"hip_y_right\" coef=\".5\"/>\n",
        "      <joint joint=\"knee_right\" coef=\"-.5\"/>\n",
        "    </fixed>\n",
        "    <fixed name=\"hamstring_left\" limited=\"true\" range=\"-0.3 2\">\n",
        "      <joint joint=\"hip_y_left\" coef=\".5\"/>\n",
        "      <joint joint=\"knee_left\" coef=\"-.5\"/>\n",
        "    </fixed>\n",
        "  </tendon> -->\n",
        "\n",
        "  <actuator>\n",
        "    <motor name=\"abdomen_z\"       gear=\"40\"  joint=\"abdomen_z\"/>\n",
        "    <motor name=\"abdomen_y\"       gear=\"40\"  joint=\"abdomen_y\"/>\n",
        "    <motor name=\"abdomen_x\"       gear=\"40\"  joint=\"abdomen_x\"/>\n",
        "    <motor name=\"hip_x_right\"     gear=\"40\"  joint=\"hip_x_right\"/>\n",
        "    <motor name=\"hip_z_right\"     gear=\"40\"  joint=\"hip_z_right\"/>\n",
        "    <motor name=\"hip_y_right\"     gear=\"120\" joint=\"hip_y_right\"/>\n",
        "    <motor name=\"knee_right\"      gear=\"80\"  joint=\"knee_right\"/>\n",
        "    <motor name=\"ankle_y_right\"   gear=\"20\"  joint=\"ankle_y_right\"/>\n",
        "    <motor name=\"ankle_x_right\"   gear=\"20\"  joint=\"ankle_x_right\"/>\n",
        "    <motor name=\"hip_x_left\"      gear=\"40\"  joint=\"hip_x_left\"/>\n",
        "    <motor name=\"hip_z_left\"      gear=\"40\"  joint=\"hip_z_left\"/>\n",
        "    <motor name=\"hip_y_left\"      gear=\"120\" joint=\"hip_y_left\"/>\n",
        "    <motor name=\"knee_left\"       gear=\"80\"  joint=\"knee_left\"/>\n",
        "    <motor name=\"ankle_y_left\"    gear=\"20\"  joint=\"ankle_y_left\"/>\n",
        "    <motor name=\"ankle_x_left\"    gear=\"20\"  joint=\"ankle_x_left\"/>\n",
        "    <motor name=\"shoulder1_right\" gear=\"20\"  joint=\"shoulder1_right\"/>\n",
        "    <motor name=\"shoulder2_right\" gear=\"20\"  joint=\"shoulder2_right\"/>\n",
        "    <motor name=\"elbow_right\"     gear=\"40\"  joint=\"elbow_right\"/>\n",
        "    <motor name=\"shoulder1_left\"  gear=\"20\"  joint=\"shoulder1_left\"/>\n",
        "    <motor name=\"shoulder2_left\"  gear=\"20\"  joint=\"shoulder2_left\"/>\n",
        "    <motor name=\"elbow_left\"      gear=\"40\"  joint=\"elbow_left\"/>\n",
        "  </actuator>\n",
        "  <keyframe>\n",
        "  <key qpos='-5 0 1.282 1 0 0 0 0 0 0 0 0 0 0 0 0 0 0 0 0 0 0 0 0 0 0 0 0 -4.1204 0.0439149 1.2821 0.0357475 0.0169831 0.00416343 0.999208 0 0 0 0 0 0 0 0 0 0 0 0 0 0 0 0 0 0 0 0 0'/>\n",
        "  <key qpos='-4.9369 0.0104954 0.877604 0.999617 0.0267022 0.00647118 -0.00319783 -0.0104185 -0.48433 -0.0602882 0.05204 -0.00947736 0.0303459 -2.28398 -0.202255 -0.095124 -0.0517436 0.0101542 0.045474 -2.28398 -0.196754 0.112707 0.10916 -0.0657979 -0.0187167 0.117478 -0.10947 0.00278909 -4.13095 0.0451804 1.27917 0.0337869 -0.0293599 0.00431884 0.998988 0.000878712 -0.0797496 -0.0055062 -0.0454015 0.00122102 -0.0133842 0.0420628 0.0748343 -0.0163969 -0.0123584 -0.000779432 -0.0139995 0.0429348 0.0763261 0.0147094 0.407914 -0.28512 -0.224151 0.410719 -0.277123 -0.221295'/>\n",
        "  <key qpos='-4.9369 0.0104954 0.877604 0.999617 0.0267022 0.00647118 -0.00319783 -0.0104185 -0.420189 -0.0602882 -0.062854 -0.00947736 0.022719 -2.28398 -0.202255 -0.095124 -0.0517436 0.0101542 0.045474 -2.28398 -0.196754 0.112707 0.10916 -0.0657979 -0.0187167 0.117478 -0.10947 0.00278909 -4.39301 -0.0489197 0.970054 0.0329077 -0.0294438 0.0348755 0.998416 0.000878712 -1.309 -0.0055062 -0.279265 -1.047 -0.288826 -1.33663 0.0748343 -0.0163969 -0.5236 -1.047 0.185909 -1.11039 0.0763261 0.0147094 0.407914 -0.28512 -0.224151 0.410719 -0.277123 -0.221295'/>\n",
        "  <key name=\"closed guard\" qpos='-4.93912 0.00574695 0.781246 0.983692 0.00932319 0.174587 0.042218 -0.0116104 -0.827671 -0.028291 -0.0956173 -0.0029346 -0.0989541 -2.42802 0.0654537 0.0787425 -0.013588 0.0691285 -0.10043 -2.41905 0.0792197 0.0596308 0.173107 -0.229405 -0.508331 0.529554 -0.214771 -0.367333 -4.3503 -0.0448199 0.684852 0.0230275 0.0811853 0.00085943 0.996433 0.00598573 -1.12713 -0.0227058 -0.236974 -0.874702 -0.380878 -1.18933 0.206359 -0.142285 -0.429261 -0.885197 0.0282188 -0.832516 0.206467 -0.0937541 0.757062 -0.298457 -0.0624962 0.0231864 -0.458937 -0.568735'/>\n",
        "  </keyframe>\n",
        "</mujoco>\"\"\""
      ],
      "metadata": {
        "cellView": "form",
        "id": "omukkdf44kjn"
      },
      "execution_count": 64,
      "outputs": []
    },
    {
      "cell_type": "markdown",
      "source": [
        "NOTE: This model is tendonless (I had to comment out the part where it says tendon because they still haven't implemented tendons...)"
      ],
      "metadata": {
        "id": "WhrJXCHjDIAv"
      }
    },
    {
      "cell_type": "code",
      "source": [
        "model = mujoco.MjModel.from_xml_string(xml)\n",
        "data = mujoco.MjData(model)\n",
        "renderer = mujoco.Renderer(model)\n",
        "mujoco.mj_forward(model, data)\n",
        "renderer.update_scene(data)\n",
        "media.show_image(renderer.render())\n",
        "mujoco.mj_resetDataKeyframe(model, data, 3)\n",
        "print(len(data.qpos))"
      ],
      "metadata": {
        "colab": {
          "base_uri": "https://localhost:8080/",
          "height": 283
        },
        "id": "itN2t1ls_Zrf",
        "outputId": "6bf01ca1-c131-4b01-b684-996e66dc2450"
      },
      "execution_count": 76,
      "outputs": [
        {
          "output_type": "display_data",
          "data": {
            "text/plain": [
              "<IPython.core.display.HTML object>"
            ],
            "text/html": [
              "<table class=\"show_images\" style=\"border-spacing:0px;\"><tr><td style=\"padding:1px;\"><img width=\"320\" height=\"240\" style=\"image-rendering:auto; object-fit:cover;\" src=\"data:image/png;base64,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\"/></td></tr></table>"
            ]
          },
          "metadata": {}
        },
        {
          "output_type": "stream",
          "name": "stdout",
          "text": [
            "56\n"
          ]
        }
      ]
    },
    {
      "cell_type": "code",
      "source": [
        "po = '-4.93912 0.00574695 0.781246 0.983692 0.00932319 0.174587 0.042218 -0.0116104 -0.827671 -0.028291 -0.0956173 -0.0029346 -0.0989541 -2.42802 0.0654537 0.0787425 -0.013588 0.0691285 -0.10043 -2.41905 0.0792197 0.0596308 0.173107 -0.229405 -0.508331 0.529554 -0.214771 -0.367333 -4.3503 -0.0448199 0.684852 0.0230275 0.0811853 0.00085943 0.996433 0.00598573 -1.12713 -0.0227058 -0.236974 -0.874702 -0.380878 -1.18933 0.206359 -0.142285 -0.429261 -0.885197 0.0282188 -0.832516 0.206467 -0.0937541 0.757062 -0.298457 -0.0624962 0.0231864 -0.458937 -0.568735'\n",
        "print(po.split())\n",
        "qpos0 = [float(i) for i in po.split()]\n",
        "print(qpos0)"
      ],
      "metadata": {
        "colab": {
          "base_uri": "https://localhost:8080/"
        },
        "id": "Th9t0WfNJvxj",
        "outputId": "8fe209d4-a22f-4db2-9023-055c952ee26a"
      },
      "execution_count": 84,
      "outputs": [
        {
          "output_type": "stream",
          "name": "stdout",
          "text": [
            "['-5', '0', '1.282', '1', '0', '0', '0', '0', '0', '0', '0', '0', '0', '0', '0', '0', '0', '0', '0', '0', '0', '0', '0', '0', '0', '0', '0', '0', '-4.1204', '0.0439149', '1.2821', '0.0357475', '0.0169831', '0.00416343', '0.999208', '0', '0', '0', '0', '0', '0', '0', '0', '0', '0', '0', '0', '0', '0', '0', '0', '0', '0', '0', '0', '0']\n",
            "[-5.0, 0.0, 1.282, 1.0, 0.0, 0.0, 0.0, 0.0, 0.0, 0.0, 0.0, 0.0, 0.0, 0.0, 0.0, 0.0, 0.0, 0.0, 0.0, 0.0, 0.0, 0.0, 0.0, 0.0, 0.0, 0.0, 0.0, 0.0, -4.1204, 0.0439149, 1.2821, 0.0357475, 0.0169831, 0.00416343, 0.999208, 0.0, 0.0, 0.0, 0.0, 0.0, 0.0, 0.0, 0.0, 0.0, 0.0, 0.0, 0.0, 0.0, 0.0, 0.0, 0.0, 0.0, 0.0, 0.0, 0.0, 0.0]\n"
          ]
        },
        {
          "output_type": "stream",
          "name": "stderr",
          "text": [
            "/usr/local/lib/python3.10/dist-packages/ipykernel/ipkernel.py:283: DeprecationWarning: `should_run_async` will not call `transform_cell` automatically in the future. Please pass the result to `transformed_cell` argument and any exception that happen during thetransform in `preprocessing_exc_tuple` in IPython 7.17 and above.\n",
            "  and should_run_async(code)\n"
          ]
        }
      ]
    },
    {
      "cell_type": "code",
      "source": [
        "print(model.nkey)"
      ],
      "metadata": {
        "colab": {
          "base_uri": "https://localhost:8080/"
        },
        "id": "lqUun-SxIbih",
        "outputId": "bbf4d76d-233b-4ae7-86cf-920dff46bebd"
      },
      "execution_count": 80,
      "outputs": [
        {
          "output_type": "stream",
          "name": "stdout",
          "text": [
            "0\n"
          ]
        },
        {
          "output_type": "stream",
          "name": "stderr",
          "text": [
            "/usr/local/lib/python3.10/dist-packages/ipykernel/ipkernel.py:283: DeprecationWarning: `should_run_async` will not call `transform_cell` automatically in the future. Please pass the result to `transformed_cell` argument and any exception that happen during thetransform in `preprocessing_exc_tuple` in IPython 7.17 and above.\n",
            "  and should_run_async(code)\n"
          ]
        }
      ]
    },
    {
      "cell_type": "code",
      "source": [
        "for key in range(model.nkey):\n",
        "  mujoco.mj_resetDataKeyframe(model, data, key)\n",
        "  mujoco.mj_forward(model, data)\n",
        "  renderer.update_scene(data)\n",
        "  media.show_image(renderer.render())"
      ],
      "metadata": {
        "id": "_cTB1a5xC_Ku"
      },
      "execution_count": 74,
      "outputs": []
    },
    {
      "cell_type": "markdown",
      "source": [],
      "metadata": {
        "id": "Z58GriHw6Tzi"
      }
    },
    {
      "cell_type": "markdown",
      "source": [
        "Main code starts from here\n"
      ],
      "metadata": {
        "id": "C3mgs_EZ4fWS"
      }
    },
    {
      "cell_type": "code",
      "source": [
        "mj_model = mujoco.MjModel.from_xml_string(xml)\n",
        "mj_data = mujoco.MjData(mj_model)\n",
        "renderer = mujoco.Renderer(mj_model)"
      ],
      "metadata": {
        "id": "E9lM_48y4fvJ"
      },
      "execution_count": 61,
      "outputs": []
    },
    {
      "cell_type": "code",
      "source": [
        "mjx_model = mjx.put_model(mj_model)\n",
        "mjx_data = mjx.put_data(mj_model, mj_data)\n",
        "# print(mj_data.qpos, type(mj_data.qpos))\n",
        "# print(mjx_data.qpos, type(mjx_data.qpos), mjx_data.qpos.devices())"
      ],
      "metadata": {
        "colab": {
          "base_uri": "https://localhost:8080/",
          "height": 332
        },
        "id": "QgrAGEeb5PLl",
        "outputId": "65eb0d27-69ef-4e6f-8e28-5edd45b0e253"
      },
      "execution_count": 62,
      "outputs": [
        {
          "output_type": "error",
          "ename": "NotImplementedError",
          "evalue": "tendons are not supported",
          "traceback": [
            "\u001b[0;31m---------------------------------------------------------------------------\u001b[0m",
            "\u001b[0;31mNotImplementedError\u001b[0m                       Traceback (most recent call last)",
            "\u001b[0;32m<ipython-input-62-10ea607f3a40>\u001b[0m in \u001b[0;36m<cell line: 1>\u001b[0;34m()\u001b[0m\n\u001b[0;32m----> 1\u001b[0;31m \u001b[0mmjx_model\u001b[0m \u001b[0;34m=\u001b[0m \u001b[0mmjx\u001b[0m\u001b[0;34m.\u001b[0m\u001b[0mput_model\u001b[0m\u001b[0;34m(\u001b[0m\u001b[0mmj_model\u001b[0m\u001b[0;34m)\u001b[0m\u001b[0;34m\u001b[0m\u001b[0;34m\u001b[0m\u001b[0m\n\u001b[0m\u001b[1;32m      2\u001b[0m \u001b[0mmjx_data\u001b[0m \u001b[0;34m=\u001b[0m \u001b[0mmjx\u001b[0m\u001b[0;34m.\u001b[0m\u001b[0mput_data\u001b[0m\u001b[0;34m(\u001b[0m\u001b[0mmj_model\u001b[0m\u001b[0;34m,\u001b[0m \u001b[0mmj_data\u001b[0m\u001b[0;34m)\u001b[0m\u001b[0;34m\u001b[0m\u001b[0;34m\u001b[0m\u001b[0m\n\u001b[1;32m      3\u001b[0m \u001b[0;31m# print(mj_data.qpos, type(mj_data.qpos))\u001b[0m\u001b[0;34m\u001b[0m\u001b[0;34m\u001b[0m\u001b[0m\n\u001b[1;32m      4\u001b[0m \u001b[0;31m# print(mjx_data.qpos, type(mjx_data.qpos), mjx_data.qpos.devices())\u001b[0m\u001b[0;34m\u001b[0m\u001b[0;34m\u001b[0m\u001b[0m\n",
            "\u001b[0;32m/usr/local/lib/python3.10/dist-packages/mujoco/mjx/_src/io.py\u001b[0m in \u001b[0;36mput_model\u001b[0;34m(m, device)\u001b[0m\n\u001b[1;32m     68\u001b[0m \u001b[0;34m\u001b[0m\u001b[0m\n\u001b[1;32m     69\u001b[0m   \u001b[0;32mif\u001b[0m \u001b[0mm\u001b[0m\u001b[0;34m.\u001b[0m\u001b[0mntendon\u001b[0m\u001b[0;34m:\u001b[0m\u001b[0;34m\u001b[0m\u001b[0;34m\u001b[0m\u001b[0m\n\u001b[0;32m---> 70\u001b[0;31m     \u001b[0;32mraise\u001b[0m \u001b[0mNotImplementedError\u001b[0m\u001b[0;34m(\u001b[0m\u001b[0;34m'tendons are not supported'\u001b[0m\u001b[0;34m)\u001b[0m\u001b[0;34m\u001b[0m\u001b[0;34m\u001b[0m\u001b[0m\n\u001b[0m\u001b[1;32m     71\u001b[0m \u001b[0;34m\u001b[0m\u001b[0m\n\u001b[1;32m     72\u001b[0m   \u001b[0mmesh_geomid\u001b[0m \u001b[0;34m=\u001b[0m \u001b[0mset\u001b[0m\u001b[0;34m(\u001b[0m\u001b[0;34m)\u001b[0m\u001b[0;34m\u001b[0m\u001b[0;34m\u001b[0m\u001b[0m\n",
            "\u001b[0;31mNotImplementedError\u001b[0m: tendons are not supported"
          ]
        }
      ]
    },
    {
      "cell_type": "code",
      "source": [
        "print(mj_model.nkey)\n",
        "for key in range(mj_model.nkey):\n",
        "  mujoco.mj_resetDataKeyframe(mj_model, mj_data, key)\n",
        "  mujoco.mj_forward(mj_model, mj_data)\n",
        "  renderer.update_scene(mj_data)\n",
        "  media.show_image(renderer.render())"
      ],
      "metadata": {
        "colab": {
          "base_uri": "https://localhost:8080/"
        },
        "id": "Wowh_3hME_LB",
        "outputId": "8b249f21-0345-4451-fac0-92cb5f140cbc"
      },
      "execution_count": 43,
      "outputs": [
        {
          "output_type": "stream",
          "name": "stdout",
          "text": [
            "0\n"
          ]
        }
      ]
    },
    {
      "cell_type": "code",
      "source": [
        "# enable joint visualization option:\n",
        "scene_option = mujoco.MjvOption()\n",
        "scene_option.flags[mujoco.mjtVisFlag.mjVIS_JOINT] = True\n",
        "\n",
        "duration = 3.8  # (seconds)\n",
        "framerate = 60  # (Hz)\n",
        "\n",
        "frames = []\n",
        "mujoco.mj_resetData(mj_model, mj_data)\n",
        "mj_model. = qpos0\n",
        "mujoco.mj_resetDataKeyframe(mj_model, mj_data, 3)\n",
        "while mj_data.time < duration:\n",
        "  mujoco.mj_step(mj_model, mj_data)\n",
        "  if len(frames) < mj_data.time * framerate:\n",
        "    renderer.update_scene(mj_data, scene_option=scene_option)\n",
        "    pixels = renderer.render()\n",
        "    frames.append(pixels)\n",
        "\n",
        "# Simulate and display video.\n",
        "media.show_video(frames, fps=framerate)"
      ],
      "metadata": {
        "colab": {
          "base_uri": "https://localhost:8080/",
          "height": 278
        },
        "id": "IGcheWVm5WKu",
        "outputId": "6200834a-8e90-467c-b5cf-785d0f41d8d0"
      },
      "execution_count": 86,
      "outputs": [
        {
          "output_type": "stream",
          "name": "stderr",
          "text": [
            "/usr/local/lib/python3.10/dist-packages/ipykernel/ipkernel.py:283: DeprecationWarning: `should_run_async` will not call `transform_cell` automatically in the future. Please pass the result to `transformed_cell` argument and any exception that happen during thetransform in `preprocessing_exc_tuple` in IPython 7.17 and above.\n",
            "  and should_run_async(code)\n"
          ]
        },
        {
          "output_type": "error",
          "ename": "ValueError",
          "evalue": "could not broadcast input array from shape (56,) into shape (0,3)",
          "traceback": [
            "\u001b[0;31m---------------------------------------------------------------------------\u001b[0m",
            "\u001b[0;31mValueError\u001b[0m                                Traceback (most recent call last)",
            "\u001b[0;32m<ipython-input-86-ca2f302674f5>\u001b[0m in \u001b[0;36m<cell line: 10>\u001b[0;34m()\u001b[0m\n\u001b[1;32m      8\u001b[0m \u001b[0mframes\u001b[0m \u001b[0;34m=\u001b[0m \u001b[0;34m[\u001b[0m\u001b[0;34m]\u001b[0m\u001b[0;34m\u001b[0m\u001b[0;34m\u001b[0m\u001b[0m\n\u001b[1;32m      9\u001b[0m \u001b[0mmujoco\u001b[0m\u001b[0;34m.\u001b[0m\u001b[0mmj_resetData\u001b[0m\u001b[0;34m(\u001b[0m\u001b[0mmj_model\u001b[0m\u001b[0;34m,\u001b[0m \u001b[0mmj_data\u001b[0m\u001b[0;34m)\u001b[0m\u001b[0;34m\u001b[0m\u001b[0;34m\u001b[0m\u001b[0m\n\u001b[0;32m---> 10\u001b[0;31m \u001b[0mmj_model\u001b[0m\u001b[0;34m.\u001b[0m\u001b[0msite_pos\u001b[0m \u001b[0;34m=\u001b[0m \u001b[0mqpos0\u001b[0m\u001b[0;34m\u001b[0m\u001b[0;34m\u001b[0m\u001b[0m\n\u001b[0m\u001b[1;32m     11\u001b[0m \u001b[0mmujoco\u001b[0m\u001b[0;34m.\u001b[0m\u001b[0mmj_resetDataKeyframe\u001b[0m\u001b[0;34m(\u001b[0m\u001b[0mmj_model\u001b[0m\u001b[0;34m,\u001b[0m \u001b[0mmj_data\u001b[0m\u001b[0;34m,\u001b[0m \u001b[0;36m3\u001b[0m\u001b[0;34m)\u001b[0m\u001b[0;34m\u001b[0m\u001b[0;34m\u001b[0m\u001b[0m\n\u001b[1;32m     12\u001b[0m \u001b[0;32mwhile\u001b[0m \u001b[0mmj_data\u001b[0m\u001b[0;34m.\u001b[0m\u001b[0mtime\u001b[0m \u001b[0;34m<\u001b[0m \u001b[0mduration\u001b[0m\u001b[0;34m:\u001b[0m\u001b[0;34m\u001b[0m\u001b[0;34m\u001b[0m\u001b[0m\n",
            "\u001b[0;31mValueError\u001b[0m: could not broadcast input array from shape (56,) into shape (0,3)"
          ]
        }
      ]
    },
    {
      "cell_type": "code",
      "source": [
        "\n",
        "jit_step = jax.jit(mjx.step)\n",
        "\n",
        "frames = []\n",
        "mujoco.mj_resetData(mj_model, mj_data)\n",
        "\n",
        "mjx_data = mjx.put_data(mj_model, mj_data)\n",
        "while mjx_data.time < duration:\n",
        "  mjx_data = jit_step(mjx_model, mjx_data)\n",
        "  if len(frames) < mjx_data.time * framerate:\n",
        "    mj_data = mjx.get_data(mj_model, mjx_data)\n",
        "    renderer.update_scene(mj_data, scene_option=scene_option)\n",
        "    pixels = renderer.render()\n",
        "    frames.append(pixels)\n",
        "\n",
        "media.show_video(frames, fps=framerate)"
      ],
      "metadata": {
        "colab": {
          "base_uri": "https://localhost:8080/",
          "height": 264
        },
        "id": "i-UeC8NE7YVM",
        "outputId": "032d53fc-0168-42f2-dbef-2208dc6e7234"
      },
      "execution_count": 26,
      "outputs": [
        {
          "output_type": "display_data",
          "data": {
            "text/plain": [
              "<IPython.core.display.HTML object>"
            ],
            "text/html": [
              "<table class=\"show_videos\" style=\"border-spacing:0px;\"><tr><td style=\"padding:1px;\"><video controls width=\"320\" height=\"240\" style=\"object-fit:cover;\" loop autoplay muted>\n",
              "      <source src=\"data:video/mp4;base64,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\" type=\"video/mp4\"/>\n",
              "      This browser does not support the video tag.\n",
              "      </video></td></tr></table>"
            ]
          },
          "metadata": {}
        }
      ]
    }
  ]
}